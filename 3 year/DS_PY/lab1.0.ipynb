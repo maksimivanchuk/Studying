{
 "cells": [
  {
   "cell_type": "code",
   "execution_count": 402,
   "metadata": {},
   "outputs": [
    {
     "name": "stdout",
     "output_type": "stream",
     "text": [
      "-0.5284782467867294\n",
      "0.3708718826899307\n",
      "0\n",
      "-0.5482882393668347\n",
      "0.3662616416502753\n",
      "1\n",
      "-0.5106800487849461\n",
      "0.3750341197569949\n",
      "1\n",
      "-0.5999991051820681\n",
      "0.3543438984944722\n",
      "0\n"
     ]
    }
   ],
   "source": [
    "import math\n",
    "def sigmoid(x):\n",
    "    return 1/(1+math.exp(-x))\n",
    "Err=0\n",
    "w1 =12.45\n",
    "w2= -0.82\n",
    "w3 = -0.82\n",
    "w4 = 12.13\n",
    "w5 = -0.22\n",
    "w6 = -0.38\n",
    "w7=2\n",
    "w8=2\n",
    "for I1 in range(2):\n",
    "    for I2 in range(2): \n",
    "        h1=I1*w1+I2*w3 + 1 * w7\n",
    "        sigmoid(h1)\n",
    "        h2=I1*w2+I2*w4  + 1 * w8\n",
    "        sigmoid(h2)\n",
    "        O1=sigmoid(h1)*w5+sigmoid(h2) * w6\n",
    "        print(O1)\n",
    "        O1out= sigmoid(O1)\n",
    "        print(O1out)\n",
    "        O1ideal = (I1+I2)%2\n",
    "        print(O1ideal)\n",
    "        Error = (pow(O1ideal-O1out,2))/1\n",
    "        Err=Err+Error"
   ]
  },
  {
   "cell_type": "code",
   "execution_count": 403,
   "metadata": {},
   "outputs": [
    {
     "name": "stdout",
     "output_type": "stream",
     "text": [
      "0.26382805252048824\n"
     ]
    }
   ],
   "source": [
    " print(Err/4)  "
   ]
  },
  {
   "cell_type": "code",
   "execution_count": null,
   "metadata": {},
   "outputs": [],
   "source": []
  },
  {
   "cell_type": "code",
   "execution_count": null,
   "metadata": {},
   "outputs": [],
   "source": [
    "    "
   ]
  },
  {
   "cell_type": "code",
   "execution_count": null,
   "metadata": {},
   "outputs": [],
   "source": []
  },
  {
   "cell_type": "code",
   "execution_count": null,
   "metadata": {},
   "outputs": [],
   "source": []
  },
  {
   "cell_type": "code",
   "execution_count": null,
   "metadata": {},
   "outputs": [],
   "source": [
    "    "
   ]
  },
  {
   "cell_type": "code",
   "execution_count": null,
   "metadata": {},
   "outputs": [],
   "source": [
    "    "
   ]
  },
  {
   "cell_type": "code",
   "execution_count": null,
   "metadata": {},
   "outputs": [],
   "source": []
  },
  {
   "cell_type": "code",
   "execution_count": null,
   "metadata": {},
   "outputs": [],
   "source": []
  },
  {
   "cell_type": "code",
   "execution_count": null,
   "metadata": {},
   "outputs": [],
   "source": []
  },
  {
   "cell_type": "code",
   "execution_count": null,
   "metadata": {},
   "outputs": [],
   "source": []
  }
 ],
 "metadata": {
  "kernelspec": {
   "display_name": "Python 3",
   "language": "python",
   "name": "python3"
  },
  "language_info": {
   "codemirror_mode": {
    "name": "ipython",
    "version": 3
   },
   "file_extension": ".py",
   "mimetype": "text/x-python",
   "name": "python",
   "nbconvert_exporter": "python",
   "pygments_lexer": "ipython3",
   "version": "3.7.0"
  }
 },
 "nbformat": 4,
 "nbformat_minor": 2
}
